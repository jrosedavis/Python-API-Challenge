{
 "cells": [
  {
   "cell_type": "markdown",
   "metadata": {},
   "source": [
    "VacationPy\n",
    "\n",
    "Note\n",
    "Keep an eye on your API usage. Use https://developers.google.com/maps/reporting/gmp-reporting as reference for how to monitor your usage and billing.\n",
    "\n",
    "Instructions have been included for each segment. You do not have to follow them exactly, but they are included to help you think through the steps."
   ]
  },
  {
   "cell_type": "code",
   "execution_count": 1,
   "metadata": {},
   "outputs": [],
   "source": [
    "# Dependencies and Setup\n",
    "import matplotlib.pyplot as plt\n",
    "import pandas as pd\n",
    "import numpy as np\n",
    "import requests\n",
    "import gmaps\n",
    "import os\n",
    "from pprint import pprint\n",
    "\n",
    "# Import API key\n",
    "from api_keys import g_key"
   ]
  },
  {
   "cell_type": "markdown",
   "metadata": {},
   "source": [
    "Store Part I results into DataFrame\n",
    "\n",
    "Load the csv exported in Part I to a DataFrame"
   ]
  },
  {
   "cell_type": "code",
   "execution_count": 2,
   "metadata": {},
   "outputs": [
    {
     "data": {
      "text/html": [
       "<div>\n",
       "<style scoped>\n",
       "    .dataframe tbody tr th:only-of-type {\n",
       "        vertical-align: middle;\n",
       "    }\n",
       "\n",
       "    .dataframe tbody tr th {\n",
       "        vertical-align: top;\n",
       "    }\n",
       "\n",
       "    .dataframe thead th {\n",
       "        text-align: right;\n",
       "    }\n",
       "</style>\n",
       "<table border=\"1\" class=\"dataframe\">\n",
       "  <thead>\n",
       "    <tr style=\"text-align: right;\">\n",
       "      <th></th>\n",
       "      <th>City</th>\n",
       "      <th>Lat</th>\n",
       "      <th>Lng</th>\n",
       "      <th>Max Temp</th>\n",
       "      <th>Humidity</th>\n",
       "      <th>Cloudiness</th>\n",
       "      <th>Country</th>\n",
       "      <th>Wind Speed</th>\n",
       "      <th>Date</th>\n",
       "    </tr>\n",
       "  </thead>\n",
       "  <tbody>\n",
       "    <tr>\n",
       "      <th>0</th>\n",
       "      <td>port elizabeth</td>\n",
       "      <td>-33.9180</td>\n",
       "      <td>25.5701</td>\n",
       "      <td>75.20</td>\n",
       "      <td>57.0</td>\n",
       "      <td>0.0</td>\n",
       "      <td>ZA</td>\n",
       "      <td>14.97</td>\n",
       "      <td>1.611929e+09</td>\n",
       "    </tr>\n",
       "    <tr>\n",
       "      <th>1</th>\n",
       "      <td>vanimo</td>\n",
       "      <td>-2.6741</td>\n",
       "      <td>141.3028</td>\n",
       "      <td>79.59</td>\n",
       "      <td>85.0</td>\n",
       "      <td>100.0</td>\n",
       "      <td>PG</td>\n",
       "      <td>10.27</td>\n",
       "      <td>1.611929e+09</td>\n",
       "    </tr>\n",
       "    <tr>\n",
       "      <th>2</th>\n",
       "      <td>ushuaia</td>\n",
       "      <td>-54.8000</td>\n",
       "      <td>-68.3000</td>\n",
       "      <td>39.20</td>\n",
       "      <td>81.0</td>\n",
       "      <td>40.0</td>\n",
       "      <td>AR</td>\n",
       "      <td>19.57</td>\n",
       "      <td>1.611929e+09</td>\n",
       "    </tr>\n",
       "    <tr>\n",
       "      <th>3</th>\n",
       "      <td>jamestown</td>\n",
       "      <td>42.0970</td>\n",
       "      <td>-79.2353</td>\n",
       "      <td>18.00</td>\n",
       "      <td>79.0</td>\n",
       "      <td>90.0</td>\n",
       "      <td>US</td>\n",
       "      <td>10.36</td>\n",
       "      <td>1.611929e+09</td>\n",
       "    </tr>\n",
       "    <tr>\n",
       "      <th>4</th>\n",
       "      <td>hobart</td>\n",
       "      <td>-42.8794</td>\n",
       "      <td>147.3294</td>\n",
       "      <td>62.60</td>\n",
       "      <td>88.0</td>\n",
       "      <td>90.0</td>\n",
       "      <td>AU</td>\n",
       "      <td>9.22</td>\n",
       "      <td>1.611929e+09</td>\n",
       "    </tr>\n",
       "    <tr>\n",
       "      <th>...</th>\n",
       "      <td>...</td>\n",
       "      <td>...</td>\n",
       "      <td>...</td>\n",
       "      <td>...</td>\n",
       "      <td>...</td>\n",
       "      <td>...</td>\n",
       "      <td>...</td>\n",
       "      <td>...</td>\n",
       "      <td>...</td>\n",
       "    </tr>\n",
       "    <tr>\n",
       "      <th>577</th>\n",
       "      <td>eydhafushi</td>\n",
       "      <td>5.1033</td>\n",
       "      <td>73.0708</td>\n",
       "      <td>80.91</td>\n",
       "      <td>72.0</td>\n",
       "      <td>46.0</td>\n",
       "      <td>MV</td>\n",
       "      <td>12.75</td>\n",
       "      <td>1.611930e+09</td>\n",
       "    </tr>\n",
       "    <tr>\n",
       "      <th>578</th>\n",
       "      <td>manicore</td>\n",
       "      <td>-5.8092</td>\n",
       "      <td>-61.3003</td>\n",
       "      <td>76.26</td>\n",
       "      <td>93.0</td>\n",
       "      <td>98.0</td>\n",
       "      <td>BR</td>\n",
       "      <td>2.82</td>\n",
       "      <td>1.611930e+09</td>\n",
       "    </tr>\n",
       "    <tr>\n",
       "      <th>579</th>\n",
       "      <td>nang rong</td>\n",
       "      <td>14.6377</td>\n",
       "      <td>102.7914</td>\n",
       "      <td>81.00</td>\n",
       "      <td>51.0</td>\n",
       "      <td>84.0</td>\n",
       "      <td>TH</td>\n",
       "      <td>6.91</td>\n",
       "      <td>1.611930e+09</td>\n",
       "    </tr>\n",
       "    <tr>\n",
       "      <th>580</th>\n",
       "      <td>lagoa</td>\n",
       "      <td>39.0500</td>\n",
       "      <td>-27.9833</td>\n",
       "      <td>59.16</td>\n",
       "      <td>71.0</td>\n",
       "      <td>100.0</td>\n",
       "      <td>PT</td>\n",
       "      <td>22.39</td>\n",
       "      <td>1.611930e+09</td>\n",
       "    </tr>\n",
       "    <tr>\n",
       "      <th>581</th>\n",
       "      <td>denpasar</td>\n",
       "      <td>-8.6500</td>\n",
       "      <td>115.2167</td>\n",
       "      <td>78.80</td>\n",
       "      <td>89.0</td>\n",
       "      <td>75.0</td>\n",
       "      <td>ID</td>\n",
       "      <td>11.50</td>\n",
       "      <td>1.611929e+09</td>\n",
       "    </tr>\n",
       "  </tbody>\n",
       "</table>\n",
       "<p>582 rows × 9 columns</p>\n",
       "</div>"
      ],
      "text/plain": [
       "               City      Lat       Lng  Max Temp  Humidity  Cloudiness  \\\n",
       "0    port elizabeth -33.9180   25.5701     75.20      57.0         0.0   \n",
       "1            vanimo  -2.6741  141.3028     79.59      85.0       100.0   \n",
       "2           ushuaia -54.8000  -68.3000     39.20      81.0        40.0   \n",
       "3         jamestown  42.0970  -79.2353     18.00      79.0        90.0   \n",
       "4            hobart -42.8794  147.3294     62.60      88.0        90.0   \n",
       "..              ...      ...       ...       ...       ...         ...   \n",
       "577      eydhafushi   5.1033   73.0708     80.91      72.0        46.0   \n",
       "578        manicore  -5.8092  -61.3003     76.26      93.0        98.0   \n",
       "579       nang rong  14.6377  102.7914     81.00      51.0        84.0   \n",
       "580           lagoa  39.0500  -27.9833     59.16      71.0       100.0   \n",
       "581        denpasar  -8.6500  115.2167     78.80      89.0        75.0   \n",
       "\n",
       "    Country  Wind Speed          Date  \n",
       "0        ZA       14.97  1.611929e+09  \n",
       "1        PG       10.27  1.611929e+09  \n",
       "2        AR       19.57  1.611929e+09  \n",
       "3        US       10.36  1.611929e+09  \n",
       "4        AU        9.22  1.611929e+09  \n",
       "..      ...         ...           ...  \n",
       "577      MV       12.75  1.611930e+09  \n",
       "578      BR        2.82  1.611930e+09  \n",
       "579      TH        6.91  1.611930e+09  \n",
       "580      PT       22.39  1.611930e+09  \n",
       "581      ID       11.50  1.611929e+09  \n",
       "\n",
       "[582 rows x 9 columns]"
      ]
     },
     "execution_count": 2,
     "metadata": {},
     "output_type": "execute_result"
    }
   ],
   "source": [
    "#Create a file path to read into csv file\n",
    "file_path = \"../output_data/city_weather_data.csv\"\n",
    "csv_df = pd.read_csv(file_path)\n",
    "csv_df"
   ]
  },
  {
   "cell_type": "markdown",
   "metadata": {},
   "source": [
    "Humidity Heatmap\n",
    "\n",
    "Configure gmaps.\n",
    "\n",
    "Use the Lat and Lng as locations and Humidity as the weight.\n",
    "\n",
    "Add Heatmap layer to map."
   ]
  },
  {
   "cell_type": "code",
   "execution_count": 3,
   "metadata": {},
   "outputs": [],
   "source": [
    "# Configure gmaps with API key\n",
    "gmaps.configure(api_key=g_key)"
   ]
  },
  {
   "cell_type": "code",
   "execution_count": 5,
   "metadata": {},
   "outputs": [
    {
     "data": {
      "application/vnd.jupyter.widget-view+json": {
       "model_id": "1777e750051848fba69703b8789d8cc8",
       "version_major": 2,
       "version_minor": 0
      },
      "text/plain": [
       "Figure(layout=FigureLayout(height='420px'))"
      ]
     },
     "metadata": {},
     "output_type": "display_data"
    }
   ],
   "source": [
    "#Filter data frame at columns for latitude and longitude, set data type as float\n",
    "coord = csv_df[['Lat', 'Lng']].astype(float)\n",
    "\n",
    "#Remove any empty cells\n",
    "csv_df = csv_df.dropna()\n",
    "\n",
    "#Filter data frame further at column for humidity, set data type as float\n",
    "humidity = csv_df[\"Humidity\"].astype(float)\n",
    "\n",
    "#Create a gmaps figure, setting variable that has stored lat and lng at locations & variable that has store humidity as the weight\n",
    "fig = gmaps.figure(center=(30.0, 0.0), zoom_level=2, map_type=\"TERRAIN\")\n",
    "\n",
    "heat_layer = gmaps.heatmap_layer(coord, weights=humidity, \n",
    "                                 dissipating=False, max_intensity=100,\n",
    "                                 point_radius = 3)\n",
    "#Add heat layer to gmaps\n",
    "fig.add_layer(heat_layer)\n",
    "fig"
   ]
  },
  {
   "cell_type": "markdown",
   "metadata": {},
   "source": [
    "Create new DataFrame fitting weather criteria\n",
    "\n",
    "Narrow down the cities to fit weather conditions.\n",
    "\n",
    "Drop any rows will null values."
   ]
  },
  {
   "cell_type": "code",
   "execution_count": 6,
   "metadata": {},
   "outputs": [
    {
     "data": {
      "text/plain": [
       "114"
      ]
     },
     "execution_count": 6,
     "metadata": {},
     "output_type": "execute_result"
    }
   ],
   "source": [
    "#Set up criteria for best weather conditions by filtering data from import csv and then continue\n",
    "csv_df = csv_df.dropna()\n",
    "# csv_df.head()\n",
    "\n",
    "#Max temp >70, <80\n",
    "filter_df = csv_df.loc[(csv_df[\"Max Temp\"] < 80) & (csv_df[\"Max Temp\"] > 70), :]\n",
    "                       \n",
    "len(filter_df)"
   ]
  },
  {
   "cell_type": "code",
   "execution_count": 7,
   "metadata": {},
   "outputs": [
    {
     "data": {
      "text/plain": [
       "81"
      ]
     },
     "execution_count": 7,
     "metadata": {},
     "output_type": "execute_result"
    }
   ],
   "source": [
    "# #Winnd speed <10 mph\n",
    "filter_1 = filter_df.loc[filter_df['Wind Speed'] < 10, :]\n",
    "\n",
    "# filter_2.head()\n",
    "len(filter_1)"
   ]
  },
  {
   "cell_type": "code",
   "execution_count": 8,
   "metadata": {},
   "outputs": [
    {
     "data": {
      "text/plain": [
       "14"
      ]
     },
     "execution_count": 8,
     "metadata": {},
     "output_type": "execute_result"
    }
   ],
   "source": [
    "#Zero clouds ==\n",
    "filter_2 = filter_1.loc[filter_1['Cloudiness'] == 0, :]\n",
    "\n",
    "# filter_2.head()\n",
    "len(filter_2)"
   ]
  },
  {
   "cell_type": "code",
   "execution_count": 9,
   "metadata": {},
   "outputs": [
    {
     "data": {
      "text/html": [
       "<div>\n",
       "<style scoped>\n",
       "    .dataframe tbody tr th:only-of-type {\n",
       "        vertical-align: middle;\n",
       "    }\n",
       "\n",
       "    .dataframe tbody tr th {\n",
       "        vertical-align: top;\n",
       "    }\n",
       "\n",
       "    .dataframe thead th {\n",
       "        text-align: right;\n",
       "    }\n",
       "</style>\n",
       "<table border=\"1\" class=\"dataframe\">\n",
       "  <thead>\n",
       "    <tr style=\"text-align: right;\">\n",
       "      <th></th>\n",
       "      <th>City</th>\n",
       "      <th>Lat</th>\n",
       "      <th>Lng</th>\n",
       "      <th>Max Temp</th>\n",
       "      <th>Humidity</th>\n",
       "      <th>Cloudiness</th>\n",
       "      <th>Country</th>\n",
       "      <th>Wind Speed</th>\n",
       "      <th>Date</th>\n",
       "      <th>Hotel Name</th>\n",
       "    </tr>\n",
       "  </thead>\n",
       "  <tbody>\n",
       "    <tr>\n",
       "      <th>36</th>\n",
       "      <td>awbari</td>\n",
       "      <td>26.5921</td>\n",
       "      <td>12.7805</td>\n",
       "      <td>70.7</td>\n",
       "      <td>23.0</td>\n",
       "      <td>0.0</td>\n",
       "      <td>LY</td>\n",
       "      <td>6.49</td>\n",
       "      <td>1.611929e+09</td>\n",
       "      <td></td>\n",
       "    </tr>\n",
       "    <tr>\n",
       "      <th>58</th>\n",
       "      <td>champerico</td>\n",
       "      <td>14.3000</td>\n",
       "      <td>-91.9167</td>\n",
       "      <td>73.4</td>\n",
       "      <td>78.0</td>\n",
       "      <td>0.0</td>\n",
       "      <td>GT</td>\n",
       "      <td>5.84</td>\n",
       "      <td>1.611929e+09</td>\n",
       "      <td></td>\n",
       "    </tr>\n",
       "    <tr>\n",
       "      <th>67</th>\n",
       "      <td>hermanus</td>\n",
       "      <td>-34.4187</td>\n",
       "      <td>19.2345</td>\n",
       "      <td>75.0</td>\n",
       "      <td>58.0</td>\n",
       "      <td>0.0</td>\n",
       "      <td>ZA</td>\n",
       "      <td>5.01</td>\n",
       "      <td>1.611929e+09</td>\n",
       "      <td></td>\n",
       "    </tr>\n",
       "    <tr>\n",
       "      <th>80</th>\n",
       "      <td>ilo</td>\n",
       "      <td>-17.6394</td>\n",
       "      <td>-71.3375</td>\n",
       "      <td>71.6</td>\n",
       "      <td>78.0</td>\n",
       "      <td>0.0</td>\n",
       "      <td>PE</td>\n",
       "      <td>6.91</td>\n",
       "      <td>1.611929e+09</td>\n",
       "      <td></td>\n",
       "    </tr>\n",
       "    <tr>\n",
       "      <th>88</th>\n",
       "      <td>bredasdorp</td>\n",
       "      <td>-34.5322</td>\n",
       "      <td>20.0403</td>\n",
       "      <td>75.0</td>\n",
       "      <td>58.0</td>\n",
       "      <td>0.0</td>\n",
       "      <td>ZA</td>\n",
       "      <td>5.01</td>\n",
       "      <td>1.611929e+09</td>\n",
       "      <td></td>\n",
       "    </tr>\n",
       "  </tbody>\n",
       "</table>\n",
       "</div>"
      ],
      "text/plain": [
       "          City      Lat      Lng  Max Temp  Humidity  Cloudiness Country  \\\n",
       "36      awbari  26.5921  12.7805      70.7      23.0         0.0      LY   \n",
       "58  champerico  14.3000 -91.9167      73.4      78.0         0.0      GT   \n",
       "67    hermanus -34.4187  19.2345      75.0      58.0         0.0      ZA   \n",
       "80         ilo -17.6394 -71.3375      71.6      78.0         0.0      PE   \n",
       "88  bredasdorp -34.5322  20.0403      75.0      58.0         0.0      ZA   \n",
       "\n",
       "    Wind Speed          Date Hotel Name  \n",
       "36        6.49  1.611929e+09             \n",
       "58        5.84  1.611929e+09             \n",
       "67        5.01  1.611929e+09             \n",
       "80        6.91  1.611929e+09             \n",
       "88        5.01  1.611929e+09             "
      ]
     },
     "execution_count": 9,
     "metadata": {},
     "output_type": "execute_result"
    }
   ],
   "source": [
    "#Store filtered df from above into a new variable named hotel_df\n",
    "hotel_df = pd.DataFrame(filter_2)\n",
    "# hotel_df.head()\n",
    "\n",
    "#Add an empty column titled \"Hotel Name\"\n",
    "hotel_df[\"Hotel Name\"] = \"\"\n",
    "\n",
    "hotel_df.head()"
   ]
  },
  {
   "cell_type": "code",
   "execution_count": 10,
   "metadata": {},
   "outputs": [
    {
     "data": {
      "text/plain": [
       "14"
      ]
     },
     "execution_count": 10,
     "metadata": {},
     "output_type": "execute_result"
    }
   ],
   "source": [
    "len(hotel_df)"
   ]
  },
  {
   "cell_type": "markdown",
   "metadata": {},
   "source": [
    "Hotel Map\n",
    "\n",
    "Store into variable named hotel_df.\n",
    "Add a \"Hotel Name\" column to the DataFrame.\n",
    "Set parameters to search for hotels with 5000 meters.\n",
    "Hit the Google Places API for each city's coordinates.\n",
    "Store the first Hotel result into the DataFrame.\n",
    "Plot markers on top of the heatmap."
   ]
  },
  {
   "cell_type": "code",
   "execution_count": 11,
   "metadata": {},
   "outputs": [
    {
     "name": "stdout",
     "output_type": "stream",
     "text": [
      "Found a place to stay...storing.\n",
      "Found a place to stay...storing.\n",
      "Found a place to stay...storing.\n",
      "Found a place to stay...storing.\n",
      "Found a place to stay...storing.\n",
      "Found a place to stay...storing.\n",
      "Found a place to stay...storing.\n",
      "Found a place to stay...storing.\n",
      "Found a place to stay...storing.\n",
      "Found a place to stay...storing.\n",
      "Found a place to stay...storing.\n",
      "Missing field/result...skipping.\n",
      "Found a place to stay...storing.\n",
      "Found a place to stay...storing.\n",
      "Found a place to stay...storing.\n"
     ]
    }
   ],
   "source": [
    "#Search for hotels with specified criteria by setting up a dictionary for keyword params argument in requests.get() method\n",
    "\n",
    "query_params = {\n",
    "    \"radius\": 5000,\n",
    "    \"type\": \"lodging\",\n",
    "    \"keyword\": \"lodging\",\n",
    "    \"key\": g_key  \n",
    "}\n",
    "\n",
    "# Loop through the hote_df and run a lat/long search for each city and country\n",
    "for index, row in hotel_df.iterrows():\n",
    "\n",
    "    lat = row[\"Lat\"]\n",
    "    lng = row[\"Lng\"]\n",
    "    city = row[\"City\"]\n",
    "    country = row[\"Country\"]\n",
    "    \n",
    "     # change location each iteration while leaving original params in place\n",
    "    query_params['location'] = f\"{lat},{lng}\"\n",
    "    \n",
    "    #user the search term: \"lodging\" and our lat/lng\n",
    "    base_url = \"https://maps.googleapis.com/maps/api/place/nearbysearch/json\"\n",
    "    \n",
    "    # make request\n",
    "    response = requests.get(base_url, params=query_params)\n",
    "    \n",
    "#     print the hotelname url\n",
    "#     print(response)\n",
    "\n",
    "    # convert to json\n",
    "    show_hotel = response.json()\n",
    "\n",
    "# Since some data may be missing we incorporate a try-except to skip any that are missing a data point.\n",
    "    try:\n",
    "        print(\"Found a place to stay...storing.\")\n",
    "        hotel_df.loc[index, \"Hotel Name\"] = show_hotel[\"results\"][0][\"name\"]\n",
    "    except (KeyError, IndexError):\n",
    "        print(\"Missing field/result...skipping.\")"
   ]
  },
  {
   "cell_type": "code",
   "execution_count": 12,
   "metadata": {},
   "outputs": [
    {
     "data": {
      "text/plain": [
       "14"
      ]
     },
     "execution_count": 12,
     "metadata": {},
     "output_type": "execute_result"
    }
   ],
   "source": [
    "hotel_df.head()\n",
    "len(hotel_df)"
   ]
  },
  {
   "cell_type": "code",
   "execution_count": 13,
   "metadata": {
    "scrolled": true
   },
   "outputs": [],
   "source": [
    "#Replace any empty rows in \"Hote Name\" column with NAN\n",
    "hotel_df['Hotel Name'].replace('', np.nan, inplace=True)"
   ]
  },
  {
   "cell_type": "code",
   "execution_count": 14,
   "metadata": {},
   "outputs": [
    {
     "data": {
      "text/plain": [
       "13"
      ]
     },
     "execution_count": 14,
     "metadata": {},
     "output_type": "execute_result"
    }
   ],
   "source": [
    "#Drop values with NAN for final results\n",
    "hotel_df = hotel_df.dropna()\n",
    "len(hotel_df)"
   ]
  },
  {
   "cell_type": "code",
   "execution_count": 15,
   "metadata": {},
   "outputs": [],
   "source": [
    "# NOTE: Do not change any of the code in this cell\n",
    "\n",
    "# Using the template add the hotel marks to the heatmap\n",
    "info_box_template = \"\"\"\n",
    "<dl>\n",
    "<dt>Name</dt><dd>{Hotel Name}</dd>\n",
    "<dt>City</dt><dd>{City}</dd>\n",
    "<dt>Country</dt><dd>{Country}</dd>\n",
    "</dl>\n",
    "\"\"\"\n",
    "# Store the DataFrame Row\n",
    "# NOTE: be sure to update with your DataFrame name\n",
    "hotel_info = [info_box_template.format(**row) for index, row in hotel_df.iterrows()]\n",
    "locations = hotel_df[[\"Lat\", \"Lng\"]]"
   ]
  },
  {
   "cell_type": "code",
   "execution_count": 16,
   "metadata": {},
   "outputs": [
    {
     "data": {
      "application/vnd.jupyter.widget-view+json": {
       "model_id": "1777e750051848fba69703b8789d8cc8",
       "version_major": 2,
       "version_minor": 0
      },
      "text/plain": [
       "Figure(layout=FigureLayout(height='420px'))"
      ]
     },
     "metadata": {},
     "output_type": "display_data"
    }
   ],
   "source": [
    "# Add marker layer ontop of heat map\n",
    "# Display figure\n",
    "marker_layer = gmaps.marker_layer(locations, info_box_content=hotel_info)\n",
    "fig2 = gmaps.figure(center=(0.0, 0.0), zoom_level=2)\n",
    "fig.add_layer(marker_layer)\n",
    "fig.add_layer(heat_layer)\n",
    "fig"
   ]
  },
  {
   "cell_type": "code",
   "execution_count": null,
   "metadata": {},
   "outputs": [],
   "source": []
  }
 ],
 "metadata": {
  "kernelspec": {
   "display_name": "Python 3",
   "language": "python",
   "name": "python3"
  },
  "language_info": {
   "codemirror_mode": {
    "name": "ipython",
    "version": 3
   },
   "file_extension": ".py",
   "mimetype": "text/x-python",
   "name": "python",
   "nbconvert_exporter": "python",
   "pygments_lexer": "ipython3",
   "version": "3.9.1"
  }
 },
 "nbformat": 4,
 "nbformat_minor": 4
}
